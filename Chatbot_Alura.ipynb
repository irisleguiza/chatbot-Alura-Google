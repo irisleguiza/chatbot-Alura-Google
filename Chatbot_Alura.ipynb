{
  "nbformat": 4,
  "nbformat_minor": 0,
  "metadata": {
    "colab": {
      "provenance": [],
      "authorship_tag": "ABX9TyOtPyS5lND53/j7pOiCuEyI",
      "include_colab_link": true
    },
    "kernelspec": {
      "name": "python3",
      "display_name": "Python 3"
    },
    "language_info": {
      "name": "python"
    }
  },
  "cells": [
    {
      "cell_type": "markdown",
      "metadata": {
        "id": "view-in-github",
        "colab_type": "text"
      },
      "source": [
        "<a href=\"https://colab.research.google.com/github/irisleguiza/chatbot-Alura-Google/blob/main/Chatbot_Alura.ipynb\" target=\"_parent\"><img src=\"https://colab.research.google.com/assets/colab-badge.svg\" alt=\"Open In Colab\"/></a>"
      ]
    },
    {
      "cell_type": "markdown",
      "source": [
        "Instalando SDK Google"
      ],
      "metadata": {
        "id": "2rqUiiqbnaGO"
      }
    },
    {
      "cell_type": "code",
      "execution_count": 6,
      "metadata": {
        "id": "IaX0ImDkGeWd"
      },
      "outputs": [],
      "source": [
        "!pip install -q -U google-generativeai"
      ]
    },
    {
      "cell_type": "code",
      "source": [
        "# Import the Python SDK\n",
        "import google.generativeai as genai\n",
        "# Used to securely store your API key\n",
        "from google.colab import userdata\n",
        "api_key=userdata.get(\"SECRET-KEY\")\n",
        "genai.configure(api_key= api_key)"
      ],
      "metadata": {
        "id": "g73JtZLJpt_8"
      },
      "execution_count": 23,
      "outputs": []
    },
    {
      "cell_type": "markdown",
      "source": [
        "Listar os modelos disponiveis\n"
      ],
      "metadata": {
        "id": "RZeepqs2qA83"
      }
    },
    {
      "cell_type": "code",
      "source": [
        "for m in genai.list_models():\n",
        "  if \"generateContent\"in m.supported_generation_methods:\n",
        "    print(m.name)"
      ],
      "metadata": {
        "colab": {
          "base_uri": "https://localhost:8080/",
          "height": 138
        },
        "id": "VmJlFp4JqZ89",
        "outputId": "33748e66-7879-450c-fcbc-e928d14d44cd"
      },
      "execution_count": 8,
      "outputs": [
        {
          "output_type": "stream",
          "name": "stdout",
          "text": [
            "models/gemini-1.0-pro\n",
            "models/gemini-1.0-pro-001\n",
            "models/gemini-1.0-pro-latest\n",
            "models/gemini-1.0-pro-vision-latest\n",
            "models/gemini-1.5-pro-latest\n",
            "models/gemini-pro\n",
            "models/gemini-pro-vision\n"
          ]
        }
      ]
    },
    {
      "cell_type": "code",
      "source": [
        "generation_config={\n",
        "    \"candidate_count\":1,\n",
        "    \"temperature\":0.5,\n",
        "}"
      ],
      "metadata": {
        "id": "y7Rd0itUuY39"
      },
      "execution_count": 10,
      "outputs": []
    },
    {
      "cell_type": "code",
      "source": [
        "safety_settings={\n",
        "    \"HARASSMENT\":\"BLOCK_NONE\",\n",
        "    \"HATE\":\"BLOCK_NONE\",\n",
        "    \"SEXUAL\":\"BLOCK_NONE\",\n",
        "    \"DANGEROUS\":\"BLOCK_NONE\",\n",
        "}"
      ],
      "metadata": {
        "id": "4pWSaWBcutdM"
      },
      "execution_count": 12,
      "outputs": []
    },
    {
      "cell_type": "markdown",
      "source": [
        "inicializando o modelo"
      ],
      "metadata": {
        "id": "xV2Tt56ewmgh"
      }
    },
    {
      "cell_type": "code",
      "source": [
        "model=genai.GenerativeModel(model_name= \"gemini-1.0-pro\",\n",
        "                            generation_config=generation_config,\n",
        "                            safety_settings=safety_settings)"
      ],
      "metadata": {
        "id": "M_KlwIgdwrLa"
      },
      "execution_count": 13,
      "outputs": []
    },
    {
      "cell_type": "code",
      "source": [
        "response = model.generate_content(\"Vamos a aprender conteudo sobre IA. Me dé sugestoes\")\n",
        "print(response.text)"
      ],
      "metadata": {
        "colab": {
          "base_uri": "https://localhost:8080/",
          "height": 624
        },
        "id": "ClVPyBybxorc",
        "outputId": "d07b24ee-ead4-4e80-9c03-954d3cc65698"
      },
      "execution_count": 14,
      "outputs": [
        {
          "output_type": "stream",
          "name": "stdout",
          "text": [
            "**Fundamentos de la IA**\n",
            "\n",
            "* Definición y tipos de IA\n",
            "* Aprendizaje automático, aprendizaje profundo y aprendizaje por refuerzo\n",
            "* Algoritmos y técnicas comunes de IA\n",
            "* Ética y sesgos en la IA\n",
            "\n",
            "**Aplicaciones de la IA**\n",
            "\n",
            "* Procesamiento del lenguaje natural (PNL)\n",
            "* Visión artificial\n",
            "* Reconocimiento de voz\n",
            "* Vehículos autónomos\n",
            "* Atención médica\n",
            "* Finanzas\n",
            "\n",
            "**Desarrollo de IA**\n",
            "\n",
            "* Lenguajes de programación y herramientas para la IA\n",
            "* Recopilación y preparación de datos\n",
            "* Entrenamiento y evaluación de modelos\n",
            "* Implementación y mantenimiento de sistemas de IA\n",
            "\n",
            "**Impacto de la IA**\n",
            "\n",
            "* Beneficios y desafíos de la IA\n",
            "* Implicaciones éticas, sociales y económicas\n",
            "* El futuro de la IA y su impacto en diversas industrias\n",
            "\n",
            "**Recursos adicionales**\n",
            "\n",
            "* Cursos en línea: Coursera, edX, Udemy\n",
            "* Libros: \"Inteligencia artificial: un enfoque moderno\" de Stuart Russell y Peter Norvig, \"Aprendizaje profundo\" de Ian Goodfellow, Yoshua Bengio y Aaron Courville\n",
            "* Conferencias y simposios: Conferencia Internacional Conjunta sobre Inteligencia Artificial (IJCAI), Conferencia sobre Visión por Computadora y Reconocimiento de Patrones (CVPR)\n",
            "* Revistas científicas: Journal of Artificial Intelligence Research, IEEE Transactions on Neural Networks and Learning Systems\n"
          ]
        }
      ]
    },
    {
      "cell_type": "code",
      "source": [
        "chat=model.start_chat(history=[])"
      ],
      "metadata": {
        "id": "qd9LmEH_ybwH"
      },
      "execution_count": 15,
      "outputs": []
    },
    {
      "cell_type": "code",
      "source": [
        "prompt=input(\"Esperando prompt:  \")\n",
        "\n",
        "while prompt!= \"fim\":\n",
        "  response =chat.send_message(prompt)\n",
        "  print(\"Resposta: \", response.text, \" \")\n",
        "  prompt = input(\"Esperando prompt: \")"
      ],
      "metadata": {
        "colab": {
          "base_uri": "https://localhost:8080/",
          "height": 627
        },
        "id": "w-B48g0Iy86x",
        "outputId": "7d27b102-34c1-49d8-8333-c0d9ce595032"
      },
      "execution_count": 20,
      "outputs": [
        {
          "name": "stdout",
          "output_type": "stream",
          "text": [
            "Esperando prompt:  qual e a melhor estacao para viajar a esse pais\n",
            "Resposta:  Primavera ou outono  \n",
            "Esperando prompt: por que?\n",
            "Resposta:  Porque durante a primavera e o outono, o clima é mais ameno e agradável, com temperaturas mais moderadas e menos multidões de turistas. Isso permite que os visitantes explorem as atrações do país com mais conforto e aproveitem as atividades ao ar livre.  \n",
            "Esperando prompt: quais sao os 3 lugares que eu tenho que conhecer sim o sim \n",
            "Resposta:  1. Praça Vermelha, Moscou\n",
            "2. Palácio de Peterhof, São Petersburgo\n",
            "3. Lago Baikal, Sibéria  \n",
            "Esperando prompt: posso nadar no lago baikal?\n",
            "Resposta:  Sim, é possível nadar no Lago Baikal, mas apenas em algumas áreas designadas e durante os meses de verão, quando a água está mais quente. A temperatura da água do lago é geralmente fria, mesmo no verão, por isso é importante tomar precauções e usar uma roupa de neoprene ou outro equipamento de proteção.  \n",
            "Esperando prompt: qual é sua temperatura meia?\n",
            "Resposta:  A temperatura média do Lago Baikal é de cerca de 4°C (39°F). No entanto, a temperatura da superfície da água pode variar dependendo da estação do ano e da profundidade do lago. Durante os meses de verão, a temperatura da superfície da água pode atingir cerca de 15-18°C (59-64°F) nas áreas mais rasas.  \n",
            "Esperando prompt: eu nao sei nadar, tere problemas?\n",
            "Resposta:  Sim, você pode ter problemas se não souber nadar no Lago Baikal, pois a água é fria e profunda. É importante tomar precauções e usar um colete salva-vidas ou outro equipamento de flutuação se você não for um nadador confiante. Além disso, é recomendável nadar apenas em áreas designadas e supervisionadas, onde há salva-vidas presentes.  \n",
            "Esperando prompt: qual cidade de rusia e a mais visitada por turistas argentinos'\n",
            "Resposta:  Moscou  \n",
            "Esperando prompt: qual e o valor da pasagem \n",
            "Resposta:  O valor da passagem de avião de Buenos Aires para Moscou varia dependendo da época do ano, companhia aérea e classe de viagem. Em média, o preço de uma passagem de ida e volta pode variar entre US$ 1.000 e US$ 2.000. É recomendável verificar com diferentes companhias aéreas e agentes de viagens para encontrar as melhores ofertas.  \n",
            "Esperando prompt: preciso visa para viajar a Moscou?\n",
            "Resposta:  Sim, cidadãos argentinos precisam de visto para viajar para Moscou. O visto pode ser solicitado na embaixada ou consulado russo na Argentina. O processo de solicitação de visto geralmente leva cerca de 10 dias úteis. É importante iniciar o processo de solicitação com antecedência para evitar atrasos.  \n",
            "Esperando prompt: que recomendacoes voce daria ao momento da viajem a Moscou?\n",
            "Resposta:  **Recomendações para viajar a Moscou:**\n",
            "\n",
            "* **Aprenda algumas frases básicas em russo.** Isso ajudará você a se comunicar com os moradores locais e a navegar pela cidade.\n",
            "* **Troque dinheiro antes de viajar.** Os cartões de crédito não são amplamente aceitos em Moscou, por isso é importante ter dinheiro em espécie.\n",
            "* **Vista-se adequadamente.** Moscou tem um clima frio, por isso é importante vestir-se em camadas e usar sapatos confortáveis.\n",
            "* **Esteja preparado para multidões.** Moscou é uma cidade grande e movimentada, por isso esteja preparado para multidões, especialmente nos pontos turísticos populares.\n",
            "* **Tenha cuidado com seus pertences.** Como em qualquer grande cidade, é importante estar atento aos seus pertences e tomar precauções contra batedores de carteira.\n",
            "* **Aprenda sobre a cultura russa.** Isso ajudará você a entender melhor as pessoas e os costumes locais.\n",
            "* **Respeite as leis e costumes locais.** É importante estar ciente das leis e costumes russos para evitar problemas.\n",
            "* **Divirta-se!** Moscou é uma cidade linda e vibrante com muito a oferecer. Aproveite sua viagem!  \n",
            "Esperando prompt: Obrigada!\n",
            "Resposta:  De nada! Fico feliz em ajudar. Aproveite sua viagem a Moscou!  \n",
            "Esperando prompt: fim\n"
          ]
        }
      ]
    },
    {
      "cell_type": "code",
      "source": [
        "#Melhorando a visualização\n",
        "#Código disponível em https://ai.google.dev/tutorials/python_quickstart#import_packages\n",
        "import textwrap\n",
        "from IPython.display import display\n",
        "from IPython.display import Markdown\n",
        "\n",
        "def to_markdown(text):\n",
        "  text = text.replace('•', '  *')\n",
        "  return Markdown(textwrap.indent(text, '> ', predicate=lambda _: True))\n",
        "\n",
        "#Imprimindo o histórico\n",
        "for message in chat.history:\n",
        "  display(to_markdown(f'**{message.role}**: {message.parts[0].text}'))\n",
        "  print('-------------------------------------------')"
      ],
      "metadata": {
        "colab": {
          "base_uri": "https://localhost:8080/",
          "height": 1000
        },
        "id": "lKSnf3Px20jI",
        "outputId": "dd15ab61-7ea8-4fc1-8705-11d1d7a1bf6b"
      },
      "execution_count": 21,
      "outputs": [
        {
          "output_type": "display_data",
          "data": {
            "text/plain": [
              "<IPython.core.display.Markdown object>"
            ],
            "text/markdown": "> **user**: onde fica a Rioja? "
          },
          "metadata": {}
        },
        {
          "output_type": "stream",
          "name": "stdout",
          "text": [
            "-------------------------------------------\n"
          ]
        },
        {
          "output_type": "display_data",
          "data": {
            "text/plain": [
              "<IPython.core.display.Markdown object>"
            ],
            "text/markdown": "> **model**: Espanha"
          },
          "metadata": {}
        },
        {
          "output_type": "stream",
          "name": "stdout",
          "text": [
            "-------------------------------------------\n"
          ]
        },
        {
          "output_type": "display_data",
          "data": {
            "text/plain": [
              "<IPython.core.display.Markdown object>"
            ],
            "text/markdown": "> **user**: qual e capital de rusia?"
          },
          "metadata": {}
        },
        {
          "output_type": "stream",
          "name": "stdout",
          "text": [
            "-------------------------------------------\n"
          ]
        },
        {
          "output_type": "display_data",
          "data": {
            "text/plain": [
              "<IPython.core.display.Markdown object>"
            ],
            "text/markdown": "> **model**: Moscou"
          },
          "metadata": {}
        },
        {
          "output_type": "stream",
          "name": "stdout",
          "text": [
            "-------------------------------------------\n"
          ]
        },
        {
          "output_type": "display_data",
          "data": {
            "text/plain": [
              "<IPython.core.display.Markdown object>"
            ],
            "text/markdown": "> **user**: qual e a comida tipica de ese pais"
          },
          "metadata": {}
        },
        {
          "output_type": "stream",
          "name": "stdout",
          "text": [
            "-------------------------------------------\n"
          ]
        },
        {
          "output_type": "display_data",
          "data": {
            "text/plain": [
              "<IPython.core.display.Markdown object>"
            ],
            "text/markdown": "> **model**: Borsch"
          },
          "metadata": {}
        },
        {
          "output_type": "stream",
          "name": "stdout",
          "text": [
            "-------------------------------------------\n"
          ]
        },
        {
          "output_type": "display_data",
          "data": {
            "text/plain": [
              "<IPython.core.display.Markdown object>"
            ],
            "text/markdown": "> **user**: qual e a melhor estacao para viajar a esse pais"
          },
          "metadata": {}
        },
        {
          "output_type": "stream",
          "name": "stdout",
          "text": [
            "-------------------------------------------\n"
          ]
        },
        {
          "output_type": "display_data",
          "data": {
            "text/plain": [
              "<IPython.core.display.Markdown object>"
            ],
            "text/markdown": "> **model**: Primavera ou outono"
          },
          "metadata": {}
        },
        {
          "output_type": "stream",
          "name": "stdout",
          "text": [
            "-------------------------------------------\n"
          ]
        },
        {
          "output_type": "display_data",
          "data": {
            "text/plain": [
              "<IPython.core.display.Markdown object>"
            ],
            "text/markdown": "> **user**: por que?"
          },
          "metadata": {}
        },
        {
          "output_type": "stream",
          "name": "stdout",
          "text": [
            "-------------------------------------------\n"
          ]
        },
        {
          "output_type": "display_data",
          "data": {
            "text/plain": [
              "<IPython.core.display.Markdown object>"
            ],
            "text/markdown": "> **model**: Porque durante a primavera e o outono, o clima é mais ameno e agradável, com temperaturas mais moderadas e menos multidões de turistas. Isso permite que os visitantes explorem as atrações do país com mais conforto e aproveitem as atividades ao ar livre."
          },
          "metadata": {}
        },
        {
          "output_type": "stream",
          "name": "stdout",
          "text": [
            "-------------------------------------------\n"
          ]
        },
        {
          "output_type": "display_data",
          "data": {
            "text/plain": [
              "<IPython.core.display.Markdown object>"
            ],
            "text/markdown": "> **user**: quais sao os 3 lugares que eu tenho que conhecer sim o sim "
          },
          "metadata": {}
        },
        {
          "output_type": "stream",
          "name": "stdout",
          "text": [
            "-------------------------------------------\n"
          ]
        },
        {
          "output_type": "display_data",
          "data": {
            "text/plain": [
              "<IPython.core.display.Markdown object>"
            ],
            "text/markdown": "> **model**: 1. Praça Vermelha, Moscou\n> 2. Palácio de Peterhof, São Petersburgo\n> 3. Lago Baikal, Sibéria"
          },
          "metadata": {}
        },
        {
          "output_type": "stream",
          "name": "stdout",
          "text": [
            "-------------------------------------------\n"
          ]
        },
        {
          "output_type": "display_data",
          "data": {
            "text/plain": [
              "<IPython.core.display.Markdown object>"
            ],
            "text/markdown": "> **user**: posso nadar no lago baikal?"
          },
          "metadata": {}
        },
        {
          "output_type": "stream",
          "name": "stdout",
          "text": [
            "-------------------------------------------\n"
          ]
        },
        {
          "output_type": "display_data",
          "data": {
            "text/plain": [
              "<IPython.core.display.Markdown object>"
            ],
            "text/markdown": "> **model**: Sim, é possível nadar no Lago Baikal, mas apenas em algumas áreas designadas e durante os meses de verão, quando a água está mais quente. A temperatura da água do lago é geralmente fria, mesmo no verão, por isso é importante tomar precauções e usar uma roupa de neoprene ou outro equipamento de proteção."
          },
          "metadata": {}
        },
        {
          "output_type": "stream",
          "name": "stdout",
          "text": [
            "-------------------------------------------\n"
          ]
        },
        {
          "output_type": "display_data",
          "data": {
            "text/plain": [
              "<IPython.core.display.Markdown object>"
            ],
            "text/markdown": "> **user**: qual é sua temperatura meia?"
          },
          "metadata": {}
        },
        {
          "output_type": "stream",
          "name": "stdout",
          "text": [
            "-------------------------------------------\n"
          ]
        },
        {
          "output_type": "display_data",
          "data": {
            "text/plain": [
              "<IPython.core.display.Markdown object>"
            ],
            "text/markdown": "> **model**: A temperatura média do Lago Baikal é de cerca de 4°C (39°F). No entanto, a temperatura da superfície da água pode variar dependendo da estação do ano e da profundidade do lago. Durante os meses de verão, a temperatura da superfície da água pode atingir cerca de 15-18°C (59-64°F) nas áreas mais rasas."
          },
          "metadata": {}
        },
        {
          "output_type": "stream",
          "name": "stdout",
          "text": [
            "-------------------------------------------\n"
          ]
        },
        {
          "output_type": "display_data",
          "data": {
            "text/plain": [
              "<IPython.core.display.Markdown object>"
            ],
            "text/markdown": "> **user**: eu nao sei nadar, tere problemas?"
          },
          "metadata": {}
        },
        {
          "output_type": "stream",
          "name": "stdout",
          "text": [
            "-------------------------------------------\n"
          ]
        },
        {
          "output_type": "display_data",
          "data": {
            "text/plain": [
              "<IPython.core.display.Markdown object>"
            ],
            "text/markdown": "> **model**: Sim, você pode ter problemas se não souber nadar no Lago Baikal, pois a água é fria e profunda. É importante tomar precauções e usar um colete salva-vidas ou outro equipamento de flutuação se você não for um nadador confiante. Além disso, é recomendável nadar apenas em áreas designadas e supervisionadas, onde há salva-vidas presentes."
          },
          "metadata": {}
        },
        {
          "output_type": "stream",
          "name": "stdout",
          "text": [
            "-------------------------------------------\n"
          ]
        },
        {
          "output_type": "display_data",
          "data": {
            "text/plain": [
              "<IPython.core.display.Markdown object>"
            ],
            "text/markdown": "> **user**: qual cidade de rusia e a mais visitada por turistas argentinos'"
          },
          "metadata": {}
        },
        {
          "output_type": "stream",
          "name": "stdout",
          "text": [
            "-------------------------------------------\n"
          ]
        },
        {
          "output_type": "display_data",
          "data": {
            "text/plain": [
              "<IPython.core.display.Markdown object>"
            ],
            "text/markdown": "> **model**: Moscou"
          },
          "metadata": {}
        },
        {
          "output_type": "stream",
          "name": "stdout",
          "text": [
            "-------------------------------------------\n"
          ]
        },
        {
          "output_type": "display_data",
          "data": {
            "text/plain": [
              "<IPython.core.display.Markdown object>"
            ],
            "text/markdown": "> **user**: qual e o valor da pasagem "
          },
          "metadata": {}
        },
        {
          "output_type": "stream",
          "name": "stdout",
          "text": [
            "-------------------------------------------\n"
          ]
        },
        {
          "output_type": "display_data",
          "data": {
            "text/plain": [
              "<IPython.core.display.Markdown object>"
            ],
            "text/markdown": "> **model**: O valor da passagem de avião de Buenos Aires para Moscou varia dependendo da época do ano, companhia aérea e classe de viagem. Em média, o preço de uma passagem de ida e volta pode variar entre US$ 1.000 e US$ 2.000. É recomendável verificar com diferentes companhias aéreas e agentes de viagens para encontrar as melhores ofertas."
          },
          "metadata": {}
        },
        {
          "output_type": "stream",
          "name": "stdout",
          "text": [
            "-------------------------------------------\n"
          ]
        },
        {
          "output_type": "display_data",
          "data": {
            "text/plain": [
              "<IPython.core.display.Markdown object>"
            ],
            "text/markdown": "> **user**: preciso visa para viajar a Moscou?"
          },
          "metadata": {}
        },
        {
          "output_type": "stream",
          "name": "stdout",
          "text": [
            "-------------------------------------------\n"
          ]
        },
        {
          "output_type": "display_data",
          "data": {
            "text/plain": [
              "<IPython.core.display.Markdown object>"
            ],
            "text/markdown": "> **model**: Sim, cidadãos argentinos precisam de visto para viajar para Moscou. O visto pode ser solicitado na embaixada ou consulado russo na Argentina. O processo de solicitação de visto geralmente leva cerca de 10 dias úteis. É importante iniciar o processo de solicitação com antecedência para evitar atrasos."
          },
          "metadata": {}
        },
        {
          "output_type": "stream",
          "name": "stdout",
          "text": [
            "-------------------------------------------\n"
          ]
        },
        {
          "output_type": "display_data",
          "data": {
            "text/plain": [
              "<IPython.core.display.Markdown object>"
            ],
            "text/markdown": "> **user**: que recomendacoes voce daria ao momento da viajem a Moscou?"
          },
          "metadata": {}
        },
        {
          "output_type": "stream",
          "name": "stdout",
          "text": [
            "-------------------------------------------\n"
          ]
        },
        {
          "output_type": "display_data",
          "data": {
            "text/plain": [
              "<IPython.core.display.Markdown object>"
            ],
            "text/markdown": "> **model**: **Recomendações para viajar a Moscou:**\n> \n> * **Aprenda algumas frases básicas em russo.** Isso ajudará você a se comunicar com os moradores locais e a navegar pela cidade.\n> * **Troque dinheiro antes de viajar.** Os cartões de crédito não são amplamente aceitos em Moscou, por isso é importante ter dinheiro em espécie.\n> * **Vista-se adequadamente.** Moscou tem um clima frio, por isso é importante vestir-se em camadas e usar sapatos confortáveis.\n> * **Esteja preparado para multidões.** Moscou é uma cidade grande e movimentada, por isso esteja preparado para multidões, especialmente nos pontos turísticos populares.\n> * **Tenha cuidado com seus pertences.** Como em qualquer grande cidade, é importante estar atento aos seus pertences e tomar precauções contra batedores de carteira.\n> * **Aprenda sobre a cultura russa.** Isso ajudará você a entender melhor as pessoas e os costumes locais.\n> * **Respeite as leis e costumes locais.** É importante estar ciente das leis e costumes russos para evitar problemas.\n> * **Divirta-se!** Moscou é uma cidade linda e vibrante com muito a oferecer. Aproveite sua viagem!"
          },
          "metadata": {}
        },
        {
          "output_type": "stream",
          "name": "stdout",
          "text": [
            "-------------------------------------------\n"
          ]
        },
        {
          "output_type": "display_data",
          "data": {
            "text/plain": [
              "<IPython.core.display.Markdown object>"
            ],
            "text/markdown": "> **user**: Obrigada!"
          },
          "metadata": {}
        },
        {
          "output_type": "stream",
          "name": "stdout",
          "text": [
            "-------------------------------------------\n"
          ]
        },
        {
          "output_type": "display_data",
          "data": {
            "text/plain": [
              "<IPython.core.display.Markdown object>"
            ],
            "text/markdown": "> **model**: De nada! Fico feliz em ajudar. Aproveite sua viagem a Moscou!"
          },
          "metadata": {}
        },
        {
          "output_type": "stream",
          "name": "stdout",
          "text": [
            "-------------------------------------------\n"
          ]
        }
      ]
    }
  ]
}